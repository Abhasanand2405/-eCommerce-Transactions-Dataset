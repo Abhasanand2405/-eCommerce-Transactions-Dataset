{
 "cells": [
  {
   "cell_type": "code",
   "execution_count": 32,
   "id": "0f147e9f-b53f-4b68-bcdd-fef0f2f21775",
   "metadata": {},
   "outputs": [],
   "source": [
    "# Task 2: Lookalike Model"
   ]
  },
  {
   "cell_type": "code",
   "execution_count": 34,
   "id": "d9cd4dee-1fa3-4b85-bd3b-e75bdb4b0ee4",
   "metadata": {},
   "outputs": [],
   "source": [
    "# Import necessary libraries\n",
    "import pandas as pd\n",
    "from sklearn.preprocessing import StandardScaler\n",
    "from sklearn.metrics.pairwise import cosine_similarity"
   ]
  },
  {
   "cell_type": "code",
   "execution_count": 36,
   "id": "595399f8-abaf-493a-9f2b-65887e608284",
   "metadata": {},
   "outputs": [],
   "source": [
    "# Load the datasets\n",
    "customers = pd.read_csv(r\"C:\\eCommerce\\Customers.csv\")\n",
    "products = pd.read_csv(r\"C:\\eCommerce\\Products.csv\")\n",
    "transactions = pd.read_csv(r\"C:\\eCommerce\\Transactions.csv\")"
   ]
  },
  {
   "cell_type": "code",
   "execution_count": 38,
   "id": "050fda2b-45b6-4898-b908-81137be96f5b",
   "metadata": {},
   "outputs": [],
   "source": [
    "# Load the datasets by given drive link\n",
    "customers_url = \"https://drive.google.com/uc?id=1bu_--mo79VdUG9oin4ybfFGRUSXAe-WE\"\n",
    "products_url = \"https://drive.google.com/uc?id=1IKuDizVapw-hyktwfpoAoaGtHtTNHfd0\"\n",
    "transactions_url = \"https://drive.google.com/uc?id=1saEqdbBB-vuk2hxoAf4TzDEsykdKlzbF\"\n"
   ]
  },
  {
   "cell_type": "code",
   "execution_count": 40,
   "id": "ef9b3092-18ea-4559-9c0f-7bdd04acfc38",
   "metadata": {},
   "outputs": [],
   "source": [
    "customers = pd.read_csv(customers_url)\n",
    "products = pd.read_csv(products_url)\n",
    "transactions = pd.read_csv(transactions_url)"
   ]
  },
  {
   "cell_type": "code",
   "execution_count": 41,
   "id": "ea32571b-39b1-4d54-9c5a-5cb621a49e43",
   "metadata": {},
   "outputs": [],
   "source": [
    "# Data preprocessing\n",
    "# Aggregate transaction data by CustomerID\n",
    "customer_transactions = transactions.groupby('CustomerID').agg(\n",
    "    total_spent=('TotalValue', 'sum'),\n",
    "    total_quantity=('Quantity', 'sum'),\n",
    "    total_transactions=('TransactionID', 'count')\n",
    ").reset_index()"
   ]
  },
  {
   "cell_type": "code",
   "execution_count": 44,
   "id": "8a276683-dd28-432c-9545-e4d04d156d99",
   "metadata": {},
   "outputs": [],
   "source": [
    "# Merge with customer profiles\n",
    "customer_profiles = pd.merge(customers, customer_transactions, on='CustomerID', how='left')\n",
    "customer_profiles.fillna(0, inplace=True)"
   ]
  },
  {
   "cell_type": "code",
   "execution_count": 46,
   "id": "fb288d9b-6ad2-415a-9b33-fbd6b106b35d",
   "metadata": {},
   "outputs": [],
   "source": [
    "# Standardize the data\n",
    "scaler = StandardScaler()\n",
    "profile_features = ['total_spent', 'total_quantity', 'total_transactions']\n",
    "customer_profiles_scaled = customer_profiles.copy()\n",
    "customer_profiles_scaled[profile_features] = scaler.fit_transform(customer_profiles[profile_features])"
   ]
  },
  {
   "cell_type": "code",
   "execution_count": 48,
   "id": "79abd9ec-9f49-401e-936a-b0227a9de629",
   "metadata": {},
   "outputs": [],
   "source": [
    "# Compute similarity scores\n",
    "similarity_matrix = cosine_similarity(customer_profiles_scaled[profile_features])\n",
    "similarity_df = pd.DataFrame(similarity_matrix, index=customer_profiles['CustomerID'], columns=customer_profiles['CustomerID'])\n"
   ]
  },
  {
   "cell_type": "code",
   "execution_count": 50,
   "id": "85d36222-456b-48fb-bd93-38b78e08eb0b",
   "metadata": {},
   "outputs": [],
   "source": [
    "# Generate lookalike recommendations for the first 20 customers\n",
    "lookalike_recommendations = {}\n",
    "for customer_id in customer_profiles['CustomerID'][:20]:\n",
    "    similar_customers = similarity_df[customer_id].sort_values(ascending=False)[1:4]\n",
    "    lookalike_recommendations[customer_id] = [(sim_customer, round(score, 4)) for sim_customer, score in similar_customers.items()]"
   ]
  },
  {
   "cell_type": "code",
   "execution_count": 52,
   "id": "0541ba69-753f-4c84-839b-a92c92a51298",
   "metadata": {},
   "outputs": [],
   "source": [
    "# Save the lookalike recommendations to a CSV file\n",
    "lookalike_output = []\n",
    "for customer, recommendations in lookalike_recommendations.items():\n",
    "    for rec_customer, score in recommendations:\n",
    "        lookalike_output.append({'CustomerID': customer, 'SimilarCustomerID': rec_customer, 'SimilarityScore': score})"
   ]
  },
  {
   "cell_type": "code",
   "execution_count": 54,
   "id": "03530bfe-a56e-46f3-a317-f534abb2afc8",
   "metadata": {},
   "outputs": [],
   "source": [
    "lookalike_df = pd.DataFrame(lookalike_output)\n",
    "lookalike_df.to_csv('Lookalike.csv', index=False)\n"
   ]
  },
  {
   "cell_type": "code",
   "execution_count": 56,
   "id": "f4403006-5178-4f19-9501-7ff21783645d",
   "metadata": {},
   "outputs": [
    {
     "name": "stdout",
     "output_type": "stream",
     "text": [
      "Lookalike Recommendations:\n",
      "   CustomerID SimilarCustomerID  SimilarityScore\n",
      "0       C0001             C0164           0.9999\n",
      "1       C0001             C0103           0.9959\n",
      "2       C0001             C0069           0.9833\n",
      "3       C0002             C0029           0.9998\n",
      "4       C0002             C0031           0.9990\n",
      "5       C0002             C0077           0.9939\n",
      "6       C0003             C0176           0.8964\n",
      "7       C0003             C0027           0.8694\n",
      "8       C0003             C0010           0.8256\n",
      "9       C0004             C0075           0.9978\n",
      "10      C0004             C0165           0.9945\n",
      "11      C0004             C0113           0.9941\n",
      "12      C0005             C0123           0.9998\n",
      "13      C0005             C0131           0.9996\n",
      "14      C0005             C0058           0.9996\n",
      "15      C0006             C0079           0.9999\n",
      "16      C0006             C0117           0.9897\n",
      "17      C0006             C0196           0.9480\n",
      "18      C0007             C0125           0.9980\n",
      "19      C0007             C0140           0.9979\n"
     ]
    }
   ],
   "source": [
    "# Display the recommendations\n",
    "print(\"Lookalike Recommendations:\")\n",
    "print(lookalike_df.head(20))\n"
   ]
  },
  {
   "cell_type": "code",
   "execution_count": 58,
   "id": "2d9bd8da-4b07-4919-8b3d-03cde5e49f35",
   "metadata": {},
   "outputs": [
    {
     "name": "stdout",
     "output_type": "stream",
     "text": [
      "\n",
      "Lookalike Map for first 20 customers:\n",
      "{'C0001': [('C0164', 0.9999), ('C0103', 0.9959), ('C0069', 0.9833)], 'C0002': [('C0029', 0.9998), ('C0031', 0.999), ('C0077', 0.9939)], 'C0003': [('C0176', 0.8964), ('C0027', 0.8694), ('C0010', 0.8256)], 'C0004': [('C0075', 0.9978), ('C0165', 0.9945), ('C0113', 0.9941)], 'C0005': [('C0123', 0.9998), ('C0131', 0.9996), ('C0058', 0.9996)], 'C0006': [('C0079', 0.9999), ('C0117', 0.9897), ('C0196', 0.948)], 'C0007': [('C0125', 0.998), ('C0140', 0.9979), ('C0092', 0.9978)], 'C0008': [('C0179', 0.9982), ('C0081', 0.9964), ('C0084', 0.993)], 'C0009': [('C0192', 0.9987), ('C0083', 0.9956), ('C0177', 0.9933)], 'C0010': [('C0142', 0.964), ('C0029', 0.9552), ('C0027', 0.9528)], 'C0011': [('C0096', 0.9993), ('C0171', 0.998), ('C0170', 0.9937)], 'C0012': [('C0068', 0.9996), ('C0065', 0.9992), ('C0102', 0.998)], 'C0013': [('C0188', 0.9994), ('C0059', 0.9992), ('C0022', 0.999)], 'C0014': [('C0033', 0.9996), ('C0186', 0.9995), ('C0095', 0.9994)], 'C0015': [('C0058', 1.0), ('C0131', 1.0), ('C0005', 0.9995)], 'C0016': [('C0107', 0.9763), ('C0152', 0.8426), ('C0183', 0.8188)], 'C0017': [('C0113', 0.9986), ('C0162', 0.9977), ('C0124', 0.9973)], 'C0018': [('C0182', 0.9851), ('C0148', 0.9793), ('C0200', 0.9748)], 'C0019': [('C0172', 0.9857), ('C0116', 0.9562), ('C0174', 0.8532)], 'C0020': [('C0080', 0.9999), ('C0180', 0.9994), ('C0063', 0.9993)]}\n"
     ]
    }
   ],
   "source": [
    "# Save recommendations in the specified map format\n",
    "lookalike_map = {customer: recs for customer, recs in lookalike_recommendations.items()}\n",
    "print(\"\\nLookalike Map for first 20 customers:\")\n",
    "print(lookalike_map)"
   ]
  }
 ],
 "metadata": {
  "kernelspec": {
   "display_name": "Python 3 (ipykernel)",
   "language": "python",
   "name": "python3"
  },
  "language_info": {
   "codemirror_mode": {
    "name": "ipython",
    "version": 3
   },
   "file_extension": ".py",
   "mimetype": "text/x-python",
   "name": "python",
   "nbconvert_exporter": "python",
   "pygments_lexer": "ipython3",
   "version": "3.12.7"
  }
 },
 "nbformat": 4,
 "nbformat_minor": 5
}
